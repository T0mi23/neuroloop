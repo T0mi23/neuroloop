{
 "cells": [
  {
   "cell_type": "markdown",
   "id": "46e78542-8def-49a7-a0d1-b1d1bba92e25",
   "metadata": {},
   "source": [
    "# 🎧 NeuroLoop: Spotify Listening Behavior Analysis\n",
    "\n",
    "This project analyzes recently played Spotify tracks using Spotipy to detect behavioral replay patterns and predict high-replay moments (\"dopamine hits\").\n",
    "\n",
    "Key features:\n",
    "- Spotify API integration\n",
    "- Data cleaning and feature engineering\n",
    "- Replay pattern detection\n",
    "- ML classification model to predict replays\n",
    "- Visualizations of trends and model outputs\n"
   ]
  },
  {
   "cell_type": "code",
   "execution_count": 9,
   "id": "c7bf6d43-835e-4ef0-8605-67cbd255edbf",
   "metadata": {},
   "outputs": [
    {
     "data": {
      "text/plain": [
       "True"
      ]
     },
     "execution_count": 9,
     "metadata": {},
     "output_type": "execute_result"
    }
   ],
   "source": [
    "from dotenv import load_dotenv\n",
    "import os\n",
    "import pandas as pd\n",
    "import seaborn as sns\n",
    "import matplotlib.pyplot as plt\n",
    "from datetime import datetime\n",
    "\n",
    "# Load environment variables (API keys)\n",
    "load_dotenv()\n"
   ]
  },
  {
   "cell_type": "code",
   "execution_count": 10,
   "id": "a9727688-2570-4293-81b3-fe1e2b086360",
   "metadata": {},
   "outputs": [
    {
     "data": {
      "text/plain": [
       "True"
      ]
     },
     "execution_count": 10,
     "metadata": {},
     "output_type": "execute_result"
    }
   ],
   "source": [
    "from dotenv import load_dotenv\n",
    "import os\n",
    "import pandas as pd\n",
    "import seaborn as sns\n",
    "import matplotlib.pyplot as plt\n",
    "from datetime import datetime\n",
    "\n",
    "load_dotenv()\n"
   ]
  },
  {
   "cell_type": "markdown",
   "id": "9f069725-2b08-422d-8b7b-d362c313d7ed",
   "metadata": {},
   "source": [
    "⚠️ Make sure to store your Spotify keys in a `.env` file and **never upload that file to GitHub**.\n"
   ]
  },
  {
   "cell_type": "code",
   "execution_count": 11,
   "id": "7d211742-dc25-4dc2-92d1-8995cdd799de",
   "metadata": {},
   "outputs": [],
   "source": [
    "import spotipy\n",
    "from spotipy.oauth2 import SpotifyOAuth\n",
    "\n",
    "sp = spotipy.Spotify(auth_manager=SpotifyOAuth(\n",
    "    client_id=os.getenv(\"SPOTIPY_CLIENT_ID\"),\n",
    "    client_secret=os.getenv(\"SPOTIPY_CLIENT_SECRET\"),\n",
    "    redirect_uri=os.getenv(\"SPOTIPY_REDIRECT_URI\"),\n",
    "    scope=\"user-read-recently-played\"\n",
    "))\n"
   ]
  },
  {
   "cell_type": "code",
   "execution_count": 12,
   "id": "8e674370-26ef-447f-976c-f843929fe188",
   "metadata": {},
   "outputs": [],
   "source": [
    "recent_tracks = sp.current_user_recently_played(limit=50)\n",
    "\n",
    "track_data = []\n",
    "for item in recent_tracks['items']:\n",
    "    track = item['track']\n",
    "    track_data.append({\n",
    "        'name': track['name'],\n",
    "        'artist': track['artists'][0]['name'],\n",
    "        'played_at': item['played_at']\n",
    "    })\n",
    "\n",
    "df = pd.DataFrame(track_data)\n",
    "df['played_at'] = pd.to_datetime(df['played_at'])\n",
    "df['date'] = df['played_at'].dt.date\n",
    "df['hour'] = df['played_at'].dt.hour\n",
    "df['day_of_week'] = df['played_at'].dt.day_name()\n"
   ]
  },
  {
   "cell_type": "code",
   "execution_count": 13,
   "id": "64ac46fa-1d66-4b18-b6fc-781bb791fe08",
   "metadata": {},
   "outputs": [],
   "source": [
    "# Count how many times a track was played on the same day\n",
    "rewind_counts = df.groupby(['name', 'date']).size().reset_index(name='rewind_score')\n",
    "df = df.merge(rewind_counts, on=['name', 'date'], how='left')\n",
    "\n",
    "# Label high-replay tracks\n",
    "df['is_high_replay'] = df['rewind_score'] >= 3\n"
   ]
  },
  {
   "cell_type": "code",
   "execution_count": 14,
   "id": "1cb9645c-6e7d-45ce-9b5d-5f80016bc20c",
   "metadata": {},
   "outputs": [],
   "source": [
    "df.to_csv(\"recent_tracks_behavior_only.csv\", index=False)\n"
   ]
  },
  {
   "cell_type": "code",
   "execution_count": 15,
   "id": "6e86df76-e156-4851-a70a-fd7de3aa1d5a",
   "metadata": {},
   "outputs": [
    {
     "data": {
      "image/png": "[encoded data removed]",
      "text/plain": [
       "<Figure size 640x480 with 1 Axes>"
      ]
     },
     "metadata": {},
     "output_type": "display_data"
    }
   ],
   "source": [
    "# Average rewind score by day\n",
    "df_summary = df.groupby('day_of_week')['rewind_score'].mean().reindex(\n",
    "    ['Monday', 'Tuesday', 'Wednesday', 'Thursday', 'Friday', 'Saturday', 'Sunday']\n",
    ")\n",
    "\n",
    "df_summary.plot(kind='bar', title='Average Rewind Score by Day of Week')\n",
    "plt.ylabel('Rewind Score')\n",
    "plt.tight_layout()\n",
    "plt.show()\n"
   ]
  },
  {
   "cell_type": "code",
   "execution_count": 18,
   "id": "4cf5838a-fc51-4a95-994b-ff867724a4c3",
   "metadata": {},
   "outputs": [
    {
     "data": {
      "text/plain": [
       "<Figure size 640x480 with 0 Axes>"
      ]
     },
     "metadata": {},
     "output_type": "display_data"
    }
   ],
   "source": [
    "plt.savefig('rewind_by_day.png')\n"
   ]
  },
  {
   "cell_type": "code",
   "execution_count": 17,
   "id": "3b310847-08ff-49c8-ac13-f2b51b9282e2",
   "metadata": {},
   "outputs": [
    {
     "name": "stdout",
     "output_type": "stream",
     "text": [
      "              precision    recall  f1-score   support\n",
      "\n",
      "           0       1.00      1.00      1.00        10\n",
      "\n",
      "    accuracy                           1.00        10\n",
      "   macro avg       1.00      1.00      1.00        10\n",
      "weighted avg       1.00      1.00      1.00        10\n",
      "\n"
     ]
    }
   ],
   "source": [
    "from sklearn.model_selection import train_test_split\n",
    "from sklearn.preprocessing import OneHotEncoder\n",
    "from sklearn.compose import ColumnTransformer\n",
    "from sklearn.pipeline import Pipeline\n",
    "from sklearn.ensemble import RandomForestClassifier\n",
    "from sklearn.metrics import classification_report\n",
    "\n",
    "X = df[['hour', 'day_of_week', 'artist']]\n",
    "y = df['is_high_replay'].astype(int)\n",
    "\n",
    "X_train, X_test, y_train, y_test = train_test_split(X, y, test_size=0.2, random_state=42)\n",
    "\n",
    "preprocessor = ColumnTransformer(\n",
    "    transformers=[('cat', OneHotEncoder(handle_unknown='ignore'), ['day_of_week', 'artist'])],\n",
    "    remainder='passthrough'\n",
    ")\n",
    "\n",
    "clf = Pipeline(steps=[\n",
    "    ('preprocessor', preprocessor),\n",
    "    ('classifier', RandomForestClassifier(n_estimators=100, random_state=42))\n",
    "])\n",
    "\n",
    "clf.fit(X_train, y_train)\n",
    "y_pred = clf.predict(X_test)\n",
    "\n",
    "print(classification_report(y_test, y_pred))\n"
   ]
  },
  {
   "cell_type": "code",
   "execution_count": null,
   "id": "f4502856-cc1b-433e-a941-36b62d4e592a",
   "metadata": {},
   "outputs": [],
   "source": [
    "importances = clf.named_steps['classifier'].feature_importances_\n",
    "feature_names = clf.named_steps['preprocessor'].get_feature_names_out()\n",
    "feat_df = pd.DataFrame({'Feature': feature_names, 'Importance': importances})\n",
    "feat_df = feat_df.sort_values(by='Importance', ascending=False)\n",
    "\n",
    "plt.figure(figsize=(10,6))\n",
    "sns.barplot(x='Importance', y='Feature', data=feat_df.head(10))\n",
    "plt.title('Top 10 Features Predicting Replays')\n",
    "plt.tight_layout()\n",
    "plt.savefig('visuals/top_features.png')\n",
    "plt.show()\n"
   ]
  },
  {
   "cell_type": "markdown",
   "id": "a7e9bab8-95c4-4bcd-8f51-27336f8aa5fe",
   "metadata": {},
   "source": [
    "## ✅ Summary\n",
    "\n",
    "In this project, I:\n",
    "- Collected live Spotify listening data\n",
    "- Engineered features like hour, day, and replay score\n",
    "- Used data visualization to uncover trends\n",
    "- Built a Random Forest model to predict high-replay tracks\n",
    "- Analyzed feature importances\n",
    "\n",
    "**Next steps**:\n",
    "- Turn this into an interactive dashboard (Streamlit)\n",
    "- Add genre or mood-based features\n"
   ]
  },
  {
   "cell_type": "code",
   "execution_count": null,
   "id": "fa2290f9-2a42-49c8-b94c-39f0915b4c8c",
   "metadata": {},
   "outputs": [],
   "source": []
  },
  {
   "cell_type": "code",
   "execution_count": null,
   "id": "d1c179f6-6a15-4c3f-8aad-e5ec04112bb2",
   "metadata": {},
   "outputs": [],
   "source": []
  }
 ],
 "metadata": {
  "kernelspec": {
   "display_name": "Python 3 (ipykernel)",
   "language": "python",
   "name": "python3"
  },
  "language_info": {
   "codemirror_mode": {
    "name": "ipython",
    "version": 3
   },
   "file_extension": ".py",
   "mimetype": "text/x-python",
   "name": "python",
   "nbconvert_exporter": "python",
   "pygments_lexer": "ipython3",
   "version": "3.12.4"
  }
 },
 "nbformat": 4,
 "nbformat_minor": 5
}
